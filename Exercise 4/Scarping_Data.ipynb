{
 "cells": [
  {
   "cell_type": "code",
   "execution_count": 1,
   "id": "29e1b8c7",
   "metadata": {},
   "outputs": [],
   "source": [
    "from bs4 import BeautifulSoup\n",
    "from selenium import webdriver\n",
    "from selenium.webdriver.chrome.options import Options as ChromeOptions\n",
    "from selenium.webdriver.chrome.service import Service as ChromeService\n",
    "import pandas as pd\n",
    "from dotenv import load_dotenv\n",
    "import pandas as pd\n",
    "import os\n",
    "import google.generativeai as genai\n",
    "import numpy as np\n",
    "from scipy.spatial.distance import cosine"
   ]
  },
  {
   "cell_type": "code",
   "execution_count": 2,
   "id": "d6b7a0ca",
   "metadata": {},
   "outputs": [],
   "source": [
    "webdriver_path = r'C:\\Windows\\chromedriver.exe'\n",
    "chrome_options = ChromeOptions()\n",
    "chrome_options.add_argument(\"--headless\")\n",
    "chrome_options.add_argument(\"--disable-gpu\")\n",
    "chrome_service = ChromeService(executable_path= webdriver_path)\n",
    "driver = webdriver.Chrome(options= chrome_options, service = chrome_service)\n"
   ]
  },
  {
   "cell_type": "code",
   "execution_count": 3,
   "id": "47b401e0",
   "metadata": {},
   "outputs": [],
   "source": [
    "def clean_ratings(element):\n",
    "    numbers = [float(num) for num in element.strip().split('\\n') if num.strip()]\n",
    "    return numbers[0], numbers[1]"
   ]
  },
  {
   "cell_type": "code",
   "execution_count": 4,
   "id": "0670431e",
   "metadata": {},
   "outputs": [],
   "source": [
    "def clean_transfer_value(element):\n",
    "    value = element.replace('€', '').replace('M', '')\n",
    "    return float(value)"
   ]
  },
  {
   "cell_type": "code",
   "execution_count": 5,
   "id": "33334fdd",
   "metadata": {},
   "outputs": [],
   "source": [
    "def clean_player_info(element):\n",
    "    lines = [line.strip() for line in element.split('\\n') if line.strip()]\n",
    "    name = lines[0].replace('\\xa0', ' ').strip()\n",
    "    return name"
   ]
  },
  {
   "cell_type": "code",
   "execution_count": 18,
   "id": "02e36121",
   "metadata": {},
   "outputs": [
    {
     "name": "stdout",
     "output_type": "stream",
     "text": [
      "Scraping data from page 1...\n",
      "Scraping data from page 2...\n",
      "Scraping data from page 3...\n",
      "Scraping data from page 4...\n",
      "Scraping data from page 5...\n",
      "Scraping data from page 6...\n",
      "Scraping data from page 7...\n",
      "Scraping data from page 8...\n",
      "Scraping data from page 9...\n",
      "Scraping data from page 10...\n",
      "Scraping data from page 11...\n",
      "Scraping data from page 12...\n",
      "Scraping data from page 13...\n",
      "Scraping data from page 14...\n",
      "Scraping data from page 15...\n",
      "Scraping data from page 16...\n",
      "Scraping data from page 17...\n",
      "Scraping data from page 18...\n",
      "Scraping data from page 19...\n",
      "Scraping data from page 20...\n",
      "Scraping data from page 21...\n",
      "Scraping data from page 22...\n",
      "Scraping data from page 23...\n",
      "Scraping data from page 24...\n",
      "Scraping data from page 25...\n"
     ]
    }
   ],
   "source": [
    "url = \"https://www.footballtransfers.com/us/values/players/most-valuable-soccer-players/\"\n",
    "data = []\n",
    "titles = ['Skill', 'Pot', 'Rank', 'Player', 'Age', 'Team', 'Transfer_Value']\n",
    "for i in range(1, 26):\n",
    "    page_url = url + str(i)\n",
    "    driver.get(page_url)\n",
    "    print(\"Scraping data from page \" + str(i) + \"...\")\n",
    "    html_content = driver.page_source\n",
    "    soup = BeautifulSoup(html_content, 'html.parser')\n",
    "    table = soup.find('table')\n",
    "    rows = table.find_all('tr')[2:]\n",
    "    dataframe = pd.DataFrame(columns=titles)\n",
    "    for row in rows:\n",
    "        cells = row.find_all('td')\n",
    "        row_data = [cell.text for cell in cells]\n",
    "        # Ensure the row has the correct number of cells before processing\n",
    "        if len(row_data) >= 6 and row_data[1] != '\\n':\n",
    "            try:\n",
    "                skill, pot = clean_ratings(row_data[0])\n",
    "                rank = int(row_data[1])\n",
    "                name = clean_player_info(row_data[2])\n",
    "                age = int(row_data[3])\n",
    "                team = row_data[4].strip()\n",
    "                transfer_value = clean_transfer_value(row_data[5])\n",
    "                data.append({\n",
    "                    'Skill': skill,\n",
    "                    'Pot': pot,\n",
    "                    'Rank': rank,\n",
    "                    'Player': name,\n",
    "                    'Age': age,\n",
    "                    'Team': team,\n",
    "                    'Transfer_Value': transfer_value\n",
    "                })\n",
    "            except (ValueError, IndexError) as e:\n",
    "                continue\n",
    "                \n"
   ]
  },
  {
   "cell_type": "code",
   "execution_count": 19,
   "id": "60e1f271",
   "metadata": {},
   "outputs": [
    {
     "name": "stdout",
     "output_type": "stream",
     "text": [
      "Result has been saved to transfer_value.csv\n"
     ]
    }
   ],
   "source": [
    "dataframe = pd.DataFrame(data, columns= titles)\n",
    "dataframe.to_csv('transfer_value.csv', index= False)\n",
    "print(\"Result has been saved to transfer_value.csv\")\n",
    "driver.quit()"
   ]
  },
  {
   "cell_type": "code",
   "execution_count": 21,
   "id": "4f989628",
   "metadata": {},
   "outputs": [],
   "source": [
    "def get_gemini_embedding(texts, model = 'text-embedding-004', task_type = 'retrieval_document'):\n",
    "    result = genai.embed_content(\n",
    "        model= model,\n",
    "        content= texts,\n",
    "        task_type= task_type\n",
    "    )\n",
    "    return result['embedding']"
   ]
  },
  {
   "cell_type": "code",
   "execution_count": 22,
   "id": "039a11fc",
   "metadata": {},
   "outputs": [
    {
     "name": "stdout",
     "output_type": "stream",
     "text": [
      "Getting embedding...\n",
      "Done\n"
     ]
    }
   ],
   "source": [
    "load_dotenv()\n",
    "gemini_api_key = os.environ[\"GEMINI_API_KEY\"]\n",
    "genai.configure(api_key= gemini_api_key)\n",
    "\n",
    "df1 = pd.read_csv('result.csv')\n",
    "df2= pd.read_csv('transfer_value.csv')\n",
    "df2 = df2.drop(columns=['Age', 'Rank', 'Team'])\n",
    "df1 = df1[df1['Minutes'] > 900]\n",
    "print(\"Getting embedding...\")\n",
    "embeddings1 = [get_gemini_embedding(name) for name in df1['Player'].tolist()]\n",
    "embeddings2 = [get_gemini_embedding(name) for name in df2['Player'].tolist()]\n",
    "print(\"Done\")"
   ]
  },
  {
   "cell_type": "code",
   "execution_count": 23,
   "id": "6ccadc9b",
   "metadata": {},
   "outputs": [],
   "source": [
    "def find_best_match(embeddings1, embeddings2, names2, threshold=0.8):\n",
    "    matches = []\n",
    "    for emb1 in embeddings1:\n",
    "        similarities = [1 - cosine(emb1, emb2) for emb2 in embeddings2]\n",
    "        best_idx = np.argmax(similarities)\n",
    "        best_score = similarities[best_idx]\n",
    "        if best_score >= threshold:\n",
    "            matches.append(names2[best_idx])\n",
    "        else:\n",
    "            matches.append(None)\n",
    "    return matches\n",
    "\n",
    "df1['matched_name'] = find_best_match(embeddings1, embeddings2, df2['Player'].tolist())"
   ]
  },
  {
   "cell_type": "code",
   "execution_count": 24,
   "id": "7a9668e6",
   "metadata": {},
   "outputs": [
    {
     "name": "stdout",
     "output_type": "stream",
     "text": [
      "Result has been saved in football_data.csv\n"
     ]
    }
   ],
   "source": [
    "df2 = df2.rename(columns= {'Player' : 'Player_Name'})\n",
    "merged_df = pd.merge(df1, df2, left_on='matched_name', right_on='Player_Name', how='left').drop(columns=['Player_Name', 'matched_name', 'GA90', 'Save%', \"Penalty_Save%\", 'CS%'])\n",
    "merged_df.to_csv('football_data.csv', index= False)\n",
    "print(\"Result has been saved in football_data.csv\")"
   ]
  }
 ],
 "metadata": {
  "kernelspec": {
   "display_name": "venv",
   "language": "python",
   "name": "python3"
  },
  "language_info": {
   "codemirror_mode": {
    "name": "ipython",
    "version": 3
   },
   "file_extension": ".py",
   "mimetype": "text/x-python",
   "name": "python",
   "nbconvert_exporter": "python",
   "pygments_lexer": "ipython3",
   "version": "3.12.7"
  }
 },
 "nbformat": 4,
 "nbformat_minor": 5
}
